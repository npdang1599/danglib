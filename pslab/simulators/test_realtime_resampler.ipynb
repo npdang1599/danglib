{
 "cells": [
  {
   "cell_type": "code",
   "execution_count": null,
   "metadata": {},
   "outputs": [],
   "source": [
    "import os\n",
    "# Đường dẫn đến thư mục bạn muốn di chuyển đến\n",
    "directory_path = \"/home/ubuntu/Dang/pslab_scan_strategies\"\n",
    "# Di chuyển đến thư mục được chỉ định\n",
    "os.chdir(directory_path)\n",
    "# Kiểm tra thư mục hiện tại\n",
    "print(\"Current Directory:\", os.getcwd())\n",
    "\n",
    "# from danglib.lazy_core import gen_plasma_functions\n",
    "# from danglib.pslab.resources import Globs\n",
    "# _, disconnect, _, pload = gen_plasma_functions(Globs.PLASMA_DB)\n",
    "\n",
    "# key = \"pslab_realtime_stockdata2.30S\"\n",
    "\n",
    "# df = pload(key)\n",
    "\n"
   ]
  },
  {
   "cell_type": "code",
   "execution_count": null,
   "metadata": {},
   "outputs": [],
   "source": [
    "from danglib.pslab.resources import Adapters\n",
    "from danglib.pslab.process_data3 import ProcessStockData, Resampler\n",
    "\n",
    "\n",
    "def run_resample_history(cls, day, timeframe = '30S', to_plasma=False):\n",
    "    def test():\n",
    "        day = '2025_02_18'\n",
    "        timeframe = '30S'\n",
    "        to_plasma = True\n",
    "\n",
    "    df_raw = Adapters.RedisAdapters.load_realtime_stock_data_from_redis(r, day, 0, -1)\n",
    "\n",
    "    df = df_raw.copy()\n",
    "    df = ProcessStockData.preprocess_realtime_data(df_raw, day)\n",
    "\n",
    "\n",
    "    df = Resampler.transform(day, df, timeframe, cleanup_data=True, subgroups=['stock'])\n",
    "    df = ProcessStockData.postprocess_resampled_data(df)\n",
    "\n",
    "    if to_plasma:\n",
    "        output_plasma_key = f\"pslab_realtime_stockdata.{timeframe}.test\"\n",
    "        Adapters.SaveDataToPlasma.save_data_to_plasma(output_plasma_key, df)\n",
    "\n",
    "    df = Adapters.load_data_from_plasma(\"pslab_realtime_stockdata2.30S\")\n"
   ]
  },
  {
   "cell_type": "code",
   "execution_count": null,
   "metadata": {},
   "outputs": [],
   "source": [
    "import pandas as pd\n",
    "import numpy as np\n",
    "\n",
    "# Tạo một ví dụ dataframe với column 2 levels và index duplicate\n",
    "# Tạo MultiIndex cho columns\n",
    "cols = pd.MultiIndex.from_tuples([\n",
    "    ('A', 'val1'), ('A', 'val2'), ('B', 'val1'), ('B', 'val2')\n",
    "])\n",
    "\n",
    "# Tạo dữ liệu với index có duplicate\n",
    "data = np.random.rand(6, 4) * 10\n",
    "index = ['idx1', 'idx2', 'idx3', 'idx1', 'idx2', 'idx4']\n",
    "\n",
    "df = pd.DataFrame(data, index=index, columns=cols)\n",
    "# df.groupby(df.index).agg({'A': 'mean', 'B': 'sum'})\n",
    "\n",
    "\n",
    "df = pd.DataFrame({\"A\": [1, 2, 3, 4, 5, 3], \"B\": [1, 2, 3, 4, 5, 3], \"C\": [1, 2, 3, 4, 5, 3]}, index=index)\n",
    "df.columns.get_level_values(0)"
   ]
  }
 ],
 "metadata": {
  "kernelspec": {
   "display_name": "dang",
   "language": "python",
   "name": "python3"
  },
  "language_info": {
   "name": "python",
   "version": "3.10.12"
  }
 },
 "nbformat": 4,
 "nbformat_minor": 2
}
